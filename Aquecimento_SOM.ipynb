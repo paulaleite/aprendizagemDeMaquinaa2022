{
  "nbformat": 4,
  "nbformat_minor": 0,
  "metadata": {
    "colab": {
      "provenance": [],
      "authorship_tag": "ABX9TyN0PLI5io9Xp2agO64Vj6pG",
      "include_colab_link": true
    },
    "kernelspec": {
      "name": "python3",
      "display_name": "Python 3"
    },
    "language_info": {
      "name": "python"
    }
  },
  "cells": [
    {
      "cell_type": "markdown",
      "metadata": {
        "id": "view-in-github",
        "colab_type": "text"
      },
      "source": [
        "<a href=\"https://colab.research.google.com/github/paulaleite/aprendizagemDeMaquinaa2022/blob/main/Aquecimento_SOM.ipynb\" target=\"_parent\"><img src=\"https://colab.research.google.com/assets/colab-badge.svg\" alt=\"Open In Colab\"/></a>"
      ]
    },
    {
      "cell_type": "markdown",
      "source": [
        "# Aquecimento com SOM\n",
        "## *Paula Torales Leite*\n",
        "### Case: Iris\n",
        "\n",
        "A proposta desta atividade é compilar os conceitos de SOM e exemplos em python em um problema conhecido: base de dados Iris.\n",
        "\n",
        "Qual a ideia:\n",
        "\n",
        "1) Fazer uma análise exploratória da base Iris (atividade feita em outros exercícios, exemplo, scatter plot com uso da classe para rotular o objeto e identificação de cada objeto da base no gráfico)\n",
        "\n",
        "2) separar para fins de treinamento do SOM a informação da classe da base Iris e treinar o SOM\n",
        "\n",
        "3) explorar os seguintes recursos visuais:\n",
        "\n",
        " - erro de quantização (qe) e topologico (te)\n",
        "\n",
        " - histograma de neurônios vencedores\n",
        "\n",
        " - mapa de calor com a informação de classe\n",
        "\n",
        " - histograma de distribuição de classe em cada neurônio\n",
        "\n",
        "4) por fim, separe os pesos dos neurônios e crie um gráfico de scatter plot que sebreponha os pesos (se der para criar um rótulo melhor ainda) com os objetos do conjunto de dados (separe duas dimensões quaisquer - e lembre de fazer o mesmo com os pesos)"
      ],
      "metadata": {
        "id": "YmHYxo2rYcEr"
      }
    },
    {
      "cell_type": "markdown",
      "source": [
        "## Importações"
      ],
      "metadata": {
        "id": "6aAaVcq4ek9C"
      }
    },
    {
      "cell_type": "code",
      "source": [
        "# Instalação do SOM\n",
        "! python -m pip install minisom --verbose"
      ],
      "metadata": {
        "colab": {
          "base_uri": "https://localhost:8080/"
        },
        "id": "gft6U-bie-g0",
        "outputId": "8d413efd-931d-435e-ef51-d3c6c55ebe2c"
      },
      "execution_count": null,
      "outputs": [
        {
          "output_type": "stream",
          "name": "stdout",
          "text": [
            "Using pip 21.1.3 from /usr/local/lib/python3.8/dist-packages/pip (python 3.8)\n",
            "Value for scheme.platlib does not match. Please report this to <https://github.com/pypa/pip/issues/9617>\n",
            "distutils: /usr/local/lib/python3.8/dist-packages\n",
            "sysconfig: /usr/lib/python3.8/site-packages\n",
            "Value for scheme.purelib does not match. Please report this to <https://github.com/pypa/pip/issues/9617>\n",
            "distutils: /usr/local/lib/python3.8/dist-packages\n",
            "sysconfig: /usr/lib/python3.8/site-packages\n",
            "Value for scheme.headers does not match. Please report this to <https://github.com/pypa/pip/issues/9617>\n",
            "distutils: /usr/local/include/python3.8/UNKNOWN\n",
            "sysconfig: /usr/include/python3.8/UNKNOWN\n",
            "Value for scheme.scripts does not match. Please report this to <https://github.com/pypa/pip/issues/9617>\n",
            "distutils: /usr/local/bin\n",
            "sysconfig: /usr/bin\n",
            "Value for scheme.data does not match. Please report this to <https://github.com/pypa/pip/issues/9617>\n",
            "distutils: /usr/local\n",
            "sysconfig: /usr\n",
            "Additional context:\n",
            "user = False\n",
            "home = None\n",
            "root = None\n",
            "prefix = None\n",
            "Non-user install because site-packages writeable\n",
            "Created temporary directory: /tmp/pip-ephem-wheel-cache-k0gs4p41\n",
            "Created temporary directory: /tmp/pip-req-tracker-0zfslct6\n",
            "Initialized build tracking at /tmp/pip-req-tracker-0zfslct6\n",
            "Created build tracker: /tmp/pip-req-tracker-0zfslct6\n",
            "Entered build tracker: /tmp/pip-req-tracker-0zfslct6\n",
            "Created temporary directory: /tmp/pip-install-6spy6f4f\n",
            "Looking in indexes: https://pypi.org/simple, https://us-python.pkg.dev/colab-wheels/public/simple/\n",
            "2 location(s) to search for versions of minisom:\n",
            "* https://pypi.org/simple/minisom/\n",
            "* https://us-python.pkg.dev/colab-wheels/public/simple/minisom/\n",
            "Fetching project page and analyzing links: https://pypi.org/simple/minisom/\n",
            "Getting page https://pypi.org/simple/minisom/\n",
            "Found index url https://pypi.org/simple\n",
            "Looking up \"https://pypi.org/simple/minisom/\" in the cache\n",
            "Request header has \"max_age\" as 0, cache bypassed\n",
            "Starting new HTTPS connection (1): pypi.org:443\n",
            "https://pypi.org:443 \"GET /simple/minisom/ HTTP/1.1\" 200 436\n",
            "Updating cache with response from \"https://pypi.org/simple/minisom/\"\n",
            "Caching due to etag\n",
            "  Found link https://files.pythonhosted.org/packages/88/c9/7ef2caebca23a1f1803a057c3df1aef219e230acc4fa824c0944432b6b7a/MiniSom-2.2.9.tar.gz#sha256=0d0bcffe2d0d55415f85e201d5d73f5cd668f29b66fb33c4f1178f8b7a272033 (from https://pypi.org/simple/minisom/), version: 2.2.9\n",
            "  Found link https://files.pythonhosted.org/packages/9f/91/e8c00ed159c6a7f05fbbe80444ac42b6648d6f07c112c56ddac0dc681ec6/MiniSom-2.3.0.tar.gz#sha256=8f55b7c23136b1cfbc538821f78f64bee78913780998c0b4bfb05bdee9ed192e (from https://pypi.org/simple/minisom/), version: 2.3.0\n",
            "Fetching project page and analyzing links: https://us-python.pkg.dev/colab-wheels/public/simple/minisom/\n",
            "Getting page https://us-python.pkg.dev/colab-wheels/public/simple/minisom/\n",
            "Found index url https://us-python.pkg.dev/colab-wheels/public/simple/\n",
            "Looking up \"https://us-python.pkg.dev/colab-wheels/public/simple/minisom/\" in the cache\n",
            "Request header has \"max_age\" as 0, cache bypassed\n",
            "Starting new HTTPS connection (1): us-python.pkg.dev:443\n",
            "https://us-python.pkg.dev:443 \"GET /colab-wheels/public/simple/minisom/ HTTP/1.1\" 404 32\n",
            "Status code 404 not in (200, 203, 300, 301)\n",
            "Could not fetch URL https://us-python.pkg.dev/colab-wheels/public/simple/minisom/: 404 Client Error: Not Found for url: https://us-python.pkg.dev/colab-wheels/public/simple/minisom/ - skipping\n",
            "Skipping link: not a file: https://us-python.pkg.dev/colab-wheels/public/simple/minisom/\n",
            "Skipping link: not a file: https://pypi.org/simple/minisom/\n",
            "Given no hashes to check 2 links for project 'minisom': discarding no candidates\n",
            "Collecting minisom\n",
            "  Created temporary directory: /tmp/pip-unpack-j9nughr0\n",
            "  Looking up \"https://files.pythonhosted.org/packages/9f/91/e8c00ed159c6a7f05fbbe80444ac42b6648d6f07c112c56ddac0dc681ec6/MiniSom-2.3.0.tar.gz\" in the cache\n",
            "  No cache entry available\n",
            "  Starting new HTTPS connection (1): files.pythonhosted.org:443\n",
            "  https://files.pythonhosted.org:443 \"GET /packages/9f/91/e8c00ed159c6a7f05fbbe80444ac42b6648d6f07c112c56ddac0dc681ec6/MiniSom-2.3.0.tar.gz HTTP/1.1\" 200 8833\n",
            "  Downloading MiniSom-2.3.0.tar.gz (8.8 kB)\n",
            "  Ignoring unknown cache-control directive: immutable\n",
            "  Updating cache with response from \"https://files.pythonhosted.org/packages/9f/91/e8c00ed159c6a7f05fbbe80444ac42b6648d6f07c112c56ddac0dc681ec6/MiniSom-2.3.0.tar.gz\"\n",
            "  Caching due to etag\n",
            "  Added minisom from https://files.pythonhosted.org/packages/9f/91/e8c00ed159c6a7f05fbbe80444ac42b6648d6f07c112c56ddac0dc681ec6/MiniSom-2.3.0.tar.gz#sha256=8f55b7c23136b1cfbc538821f78f64bee78913780998c0b4bfb05bdee9ed192e to build tracker '/tmp/pip-req-tracker-0zfslct6'\n",
            "    Running setup.py (path:/tmp/pip-install-6spy6f4f/minisom_935409673f534ca582162c6d282dda8b/setup.py) egg_info for package minisom\n",
            "    Created temporary directory: /tmp/pip-pip-egg-info-t6qbjsso\n",
            "    Running command python setup.py egg_info\n",
            "    running egg_info\n",
            "    creating /tmp/pip-pip-egg-info-t6qbjsso/MiniSom.egg-info\n",
            "    writing /tmp/pip-pip-egg-info-t6qbjsso/MiniSom.egg-info/PKG-INFO\n",
            "    writing dependency_links to /tmp/pip-pip-egg-info-t6qbjsso/MiniSom.egg-info/dependency_links.txt\n",
            "    writing top-level names to /tmp/pip-pip-egg-info-t6qbjsso/MiniSom.egg-info/top_level.txt\n",
            "    writing manifest file '/tmp/pip-pip-egg-info-t6qbjsso/MiniSom.egg-info/SOURCES.txt'\n",
            "    reading manifest file '/tmp/pip-pip-egg-info-t6qbjsso/MiniSom.egg-info/SOURCES.txt'\n",
            "    writing manifest file '/tmp/pip-pip-egg-info-t6qbjsso/MiniSom.egg-info/SOURCES.txt'\n",
            "    /usr/local/lib/python3.8/dist-packages/setuptools/dist.py:697: UserWarning: Usage of dash-separated 'description-file' will not be supported in future versions. Please use the underscore name 'description_file' instead\n",
            "      warnings.warn(\n",
            "  Source in /tmp/pip-install-6spy6f4f/minisom_935409673f534ca582162c6d282dda8b has version 2.3.0, which satisfies requirement minisom from https://files.pythonhosted.org/packages/9f/91/e8c00ed159c6a7f05fbbe80444ac42b6648d6f07c112c56ddac0dc681ec6/MiniSom-2.3.0.tar.gz#sha256=8f55b7c23136b1cfbc538821f78f64bee78913780998c0b4bfb05bdee9ed192e\n",
            "  Removed minisom from https://files.pythonhosted.org/packages/9f/91/e8c00ed159c6a7f05fbbe80444ac42b6648d6f07c112c56ddac0dc681ec6/MiniSom-2.3.0.tar.gz#sha256=8f55b7c23136b1cfbc538821f78f64bee78913780998c0b4bfb05bdee9ed192e from build tracker '/tmp/pip-req-tracker-0zfslct6'\n",
            "Created temporary directory: /tmp/pip-unpack-gssm3hgz\n",
            "Building wheels for collected packages: minisom\n",
            "  Created temporary directory: /tmp/pip-wheel-kmgq7y4n\n",
            "  Building wheel for minisom (setup.py) ... \u001b[?25l  Destination directory: /tmp/pip-wheel-kmgq7y4n\n",
            "  Running command /usr/bin/python3 -u -c 'import io, os, sys, setuptools, tokenize; sys.argv[0] = '\"'\"'/tmp/pip-install-6spy6f4f/minisom_935409673f534ca582162c6d282dda8b/setup.py'\"'\"'; __file__='\"'\"'/tmp/pip-install-6spy6f4f/minisom_935409673f534ca582162c6d282dda8b/setup.py'\"'\"';f = getattr(tokenize, '\"'\"'open'\"'\"', open)(__file__) if os.path.exists(__file__) else io.StringIO('\"'\"'from setuptools import setup; setup()'\"'\"');code = f.read().replace('\"'\"'\\r\\n'\"'\"', '\"'\"'\\n'\"'\"');f.close();exec(compile(code, __file__, '\"'\"'exec'\"'\"'))' bdist_wheel -d /tmp/pip-wheel-kmgq7y4n\n",
            "  /usr/local/lib/python3.8/dist-packages/setuptools/dist.py:697: UserWarning: Usage of dash-separated 'description-file' will not be supported in future versions. Please use the underscore name 'description_file' instead\n",
            "    warnings.warn(\n",
            "  running bdist_wheel\n",
            "  running build\n",
            "  running build_py\n",
            "  Generating grammar tables from /usr/lib/python3.8/lib2to3/Grammar.txt\n",
            "  Generating grammar tables from /usr/lib/python3.8/lib2to3/PatternGrammar.txt\n",
            "  creating build\n",
            "  creating build/lib\n",
            "  copying minisom.py -> build/lib\n",
            "  running egg_info\n",
            "  creating MiniSom.egg-info\n",
            "  writing MiniSom.egg-info/PKG-INFO\n",
            "  writing dependency_links to MiniSom.egg-info/dependency_links.txt\n",
            "  writing top-level names to MiniSom.egg-info/top_level.txt\n",
            "  writing manifest file 'MiniSom.egg-info/SOURCES.txt'\n",
            "  reading manifest file 'MiniSom.egg-info/SOURCES.txt'\n",
            "  writing manifest file 'MiniSom.egg-info/SOURCES.txt'\n",
            "  installing to build/bdist.linux-x86_64/wheel\n",
            "  running install\n",
            "  running install_lib\n",
            "  creating build/bdist.linux-x86_64\n",
            "  creating build/bdist.linux-x86_64/wheel\n",
            "  copying build/lib/minisom.py -> build/bdist.linux-x86_64/wheel\n",
            "  running install_egg_info\n",
            "  Copying MiniSom.egg-info to build/bdist.linux-x86_64/wheel/MiniSom-2.3.0-py3.8.egg-info\n",
            "  running install_scripts\n",
            "  creating build/bdist.linux-x86_64/wheel/MiniSom-2.3.0.dist-info/WHEEL\n",
            "  creating '/tmp/pip-wheel-kmgq7y4n/MiniSom-2.3.0-py3-none-any.whl' and adding 'build/bdist.linux-x86_64/wheel' to it\n",
            "  adding 'minisom.py'\n",
            "  adding 'MiniSom-2.3.0.dist-info/METADATA'\n",
            "  adding 'MiniSom-2.3.0.dist-info/WHEEL'\n",
            "  adding 'MiniSom-2.3.0.dist-info/top_level.txt'\n",
            "  adding 'MiniSom-2.3.0.dist-info/RECORD'\n",
            "  removing build/bdist.linux-x86_64/wheel\n",
            "\u001b[?25hdone\n",
            "  Created wheel for minisom: filename=MiniSom-2.3.0-py3-none-any.whl size=9016 sha256=6da76b862b3f5cb294815f4665866677d6bd9ba35c1b8d00f258c35c75f77c41\n",
            "  Stored in directory: /root/.cache/pip/wheels/6d/4e/9e/a95c14a232a196c22d9c04b221ff5d25461a1a4c55339c61db\n",
            "Successfully built minisom\n",
            "Installing collected packages: minisom\n",
            "  Value for scheme.platlib does not match. Please report this to <https://github.com/pypa/pip/issues/9617>\n",
            "  distutils: /usr/local/lib/python3.8/dist-packages\n",
            "  sysconfig: /usr/lib/python3.8/site-packages\n",
            "  Value for scheme.purelib does not match. Please report this to <https://github.com/pypa/pip/issues/9617>\n",
            "  distutils: /usr/local/lib/python3.8/dist-packages\n",
            "  sysconfig: /usr/lib/python3.8/site-packages\n",
            "  Value for scheme.headers does not match. Please report this to <https://github.com/pypa/pip/issues/9617>\n",
            "  distutils: /usr/local/include/python3.8/minisom\n",
            "  sysconfig: /usr/include/python3.8/minisom\n",
            "  Value for scheme.scripts does not match. Please report this to <https://github.com/pypa/pip/issues/9617>\n",
            "  distutils: /usr/local/bin\n",
            "  sysconfig: /usr/bin\n",
            "  Value for scheme.data does not match. Please report this to <https://github.com/pypa/pip/issues/9617>\n",
            "  distutils: /usr/local\n",
            "  sysconfig: /usr\n",
            "  Additional context:\n",
            "  user = False\n",
            "  home = None\n",
            "  root = None\n",
            "  prefix = None\n",
            "\n",
            "Value for scheme.platlib does not match. Please report this to <https://github.com/pypa/pip/issues/9617>\n",
            "distutils: /usr/local/lib/python3.8/dist-packages\n",
            "sysconfig: /usr/lib/python3.8/site-packages\n",
            "Value for scheme.purelib does not match. Please report this to <https://github.com/pypa/pip/issues/9617>\n",
            "distutils: /usr/local/lib/python3.8/dist-packages\n",
            "sysconfig: /usr/lib/python3.8/site-packages\n",
            "Value for scheme.headers does not match. Please report this to <https://github.com/pypa/pip/issues/9617>\n",
            "distutils: /usr/local/include/python3.8/UNKNOWN\n",
            "sysconfig: /usr/include/python3.8/UNKNOWN\n",
            "Value for scheme.scripts does not match. Please report this to <https://github.com/pypa/pip/issues/9617>\n",
            "distutils: /usr/local/bin\n",
            "sysconfig: /usr/bin\n",
            "Value for scheme.data does not match. Please report this to <https://github.com/pypa/pip/issues/9617>\n",
            "distutils: /usr/local\n",
            "sysconfig: /usr\n",
            "Additional context:\n",
            "user = False\n",
            "home = None\n",
            "root = None\n",
            "prefix = None\n",
            "Successfully installed minisom-2.3.0\n",
            "Removed build tracker: '/tmp/pip-req-tracker-0zfslct6'\n"
          ]
        }
      ]
    },
    {
      "cell_type": "code",
      "execution_count": null,
      "metadata": {
        "id": "YSLrACc7Ya6C"
      },
      "outputs": [],
      "source": [
        "# Bibliotecas padrões\n",
        "import pandas as pd\n",
        "import numpy as np\n",
        "\n",
        "# Bibliotecas de Plotagem\n",
        "from matplotlib import pyplot as plt\n",
        "%matplotlib inline\n",
        "\n",
        "# Modelagem e Aprendizagem de Máquina\n",
        "from sklearn import datasets\n",
        "from minisom import MiniSom\n",
        "from sklearn.model_selection import train_test_split\n",
        "from sklearn.metrics import classification_report"
      ]
    },
    {
      "cell_type": "code",
      "source": [
        "iris = datasets.load_iris()"
      ],
      "metadata": {
        "id": "xlU7u8OQly1d"
      },
      "execution_count": null,
      "outputs": []
    },
    {
      "cell_type": "markdown",
      "source": [
        "## Análise Exploratória"
      ],
      "metadata": {
        "id": "A9nSQEmXl7vT"
      }
    },
    {
      "cell_type": "markdown",
      "source": [
        "Atributos"
      ],
      "metadata": {
        "id": "UH17NArmm4d-"
      }
    },
    {
      "cell_type": "code",
      "source": [
        "X = pd.DataFrame(iris.data[:, :4])\n",
        "y = pd.DataFrame(iris.target)\n",
        "iris_df = pd.concat([X,y], axis=1)\n",
        "iris_df\n",
        "iris_df.columns = ['Sepal_Length','Sepal_Width','Petal_Length','Petal_Width','Species']\n",
        "print(iris_df)"
      ],
      "metadata": {
        "colab": {
          "base_uri": "https://localhost:8080/"
        },
        "id": "0DJb-gXwl2yr",
        "outputId": "0969182e-b0d0-43d6-b428-80e102dad463"
      },
      "execution_count": null,
      "outputs": [
        {
          "output_type": "stream",
          "name": "stdout",
          "text": [
            "     Sepal_Length  Sepal_Width  Petal_Length  Petal_Width  Species\n",
            "0             5.1          3.5           1.4          0.2        0\n",
            "1             4.9          3.0           1.4          0.2        0\n",
            "2             4.7          3.2           1.3          0.2        0\n",
            "3             4.6          3.1           1.5          0.2        0\n",
            "4             5.0          3.6           1.4          0.2        0\n",
            "..            ...          ...           ...          ...      ...\n",
            "145           6.7          3.0           5.2          2.3        2\n",
            "146           6.3          2.5           5.0          1.9        2\n",
            "147           6.5          3.0           5.2          2.0        2\n",
            "148           6.2          3.4           5.4          2.3        2\n",
            "149           5.9          3.0           5.1          1.8        2\n",
            "\n",
            "[150 rows x 5 columns]\n"
          ]
        }
      ]
    },
    {
      "cell_type": "code",
      "source": [
        "iris_df.dtypes"
      ],
      "metadata": {
        "colab": {
          "base_uri": "https://localhost:8080/"
        },
        "id": "ejf_1eOYm54r",
        "outputId": "7df99354-344c-423e-eef6-1b10a44cf337"
      },
      "execution_count": null,
      "outputs": [
        {
          "output_type": "execute_result",
          "data": {
            "text/plain": [
              "Sepal_Length    float64\n",
              "Sepal_Width     float64\n",
              "Petal_Length    float64\n",
              "Petal_Width     float64\n",
              "Species           int64\n",
              "dtype: object"
            ]
          },
          "metadata": {},
          "execution_count": 6
        }
      ]
    },
    {
      "cell_type": "code",
      "source": [
        "iris_df.shape"
      ],
      "metadata": {
        "colab": {
          "base_uri": "https://localhost:8080/"
        },
        "id": "ARKW5EgDm8Ah",
        "outputId": "d107a4cd-5947-4a49-faf1-fa66bd3f7803"
      },
      "execution_count": null,
      "outputs": [
        {
          "output_type": "execute_result",
          "data": {
            "text/plain": [
              "(150, 5)"
            ]
          },
          "metadata": {},
          "execution_count": 7
        }
      ]
    },
    {
      "cell_type": "code",
      "source": [
        "iris_df.head()"
      ],
      "metadata": {
        "colab": {
          "base_uri": "https://localhost:8080/",
          "height": 204
        },
        "id": "YLzpQouwm9ly",
        "outputId": "1460f30f-0205-49b3-dac9-2ce909a27ceb"
      },
      "execution_count": null,
      "outputs": [
        {
          "output_type": "execute_result",
          "data": {
            "text/plain": [
              "   Sepal_Length  Sepal_Width  Petal_Length  Petal_Width  Species\n",
              "0           5.1          3.5           1.4          0.2        0\n",
              "1           4.9          3.0           1.4          0.2        0\n",
              "2           4.7          3.2           1.3          0.2        0\n",
              "3           4.6          3.1           1.5          0.2        0\n",
              "4           5.0          3.6           1.4          0.2        0"
            ],
            "text/html": [
              "\n",
              "  <div id=\"df-7dd45f10-3581-4232-b0a7-86a4084ded8d\">\n",
              "    <div class=\"colab-df-container\">\n",
              "      <div>\n",
              "<style scoped>\n",
              "    .dataframe tbody tr th:only-of-type {\n",
              "        vertical-align: middle;\n",
              "    }\n",
              "\n",
              "    .dataframe tbody tr th {\n",
              "        vertical-align: top;\n",
              "    }\n",
              "\n",
              "    .dataframe thead th {\n",
              "        text-align: right;\n",
              "    }\n",
              "</style>\n",
              "<table border=\"1\" class=\"dataframe\">\n",
              "  <thead>\n",
              "    <tr style=\"text-align: right;\">\n",
              "      <th></th>\n",
              "      <th>Sepal_Length</th>\n",
              "      <th>Sepal_Width</th>\n",
              "      <th>Petal_Length</th>\n",
              "      <th>Petal_Width</th>\n",
              "      <th>Species</th>\n",
              "    </tr>\n",
              "  </thead>\n",
              "  <tbody>\n",
              "    <tr>\n",
              "      <th>0</th>\n",
              "      <td>5.1</td>\n",
              "      <td>3.5</td>\n",
              "      <td>1.4</td>\n",
              "      <td>0.2</td>\n",
              "      <td>0</td>\n",
              "    </tr>\n",
              "    <tr>\n",
              "      <th>1</th>\n",
              "      <td>4.9</td>\n",
              "      <td>3.0</td>\n",
              "      <td>1.4</td>\n",
              "      <td>0.2</td>\n",
              "      <td>0</td>\n",
              "    </tr>\n",
              "    <tr>\n",
              "      <th>2</th>\n",
              "      <td>4.7</td>\n",
              "      <td>3.2</td>\n",
              "      <td>1.3</td>\n",
              "      <td>0.2</td>\n",
              "      <td>0</td>\n",
              "    </tr>\n",
              "    <tr>\n",
              "      <th>3</th>\n",
              "      <td>4.6</td>\n",
              "      <td>3.1</td>\n",
              "      <td>1.5</td>\n",
              "      <td>0.2</td>\n",
              "      <td>0</td>\n",
              "    </tr>\n",
              "    <tr>\n",
              "      <th>4</th>\n",
              "      <td>5.0</td>\n",
              "      <td>3.6</td>\n",
              "      <td>1.4</td>\n",
              "      <td>0.2</td>\n",
              "      <td>0</td>\n",
              "    </tr>\n",
              "  </tbody>\n",
              "</table>\n",
              "</div>\n",
              "      <button class=\"colab-df-convert\" onclick=\"convertToInteractive('df-7dd45f10-3581-4232-b0a7-86a4084ded8d')\"\n",
              "              title=\"Convert this dataframe to an interactive table.\"\n",
              "              style=\"display:none;\">\n",
              "        \n",
              "  <svg xmlns=\"http://www.w3.org/2000/svg\" height=\"24px\"viewBox=\"0 0 24 24\"\n",
              "       width=\"24px\">\n",
              "    <path d=\"M0 0h24v24H0V0z\" fill=\"none\"/>\n",
              "    <path d=\"M18.56 5.44l.94 2.06.94-2.06 2.06-.94-2.06-.94-.94-2.06-.94 2.06-2.06.94zm-11 1L8.5 8.5l.94-2.06 2.06-.94-2.06-.94L8.5 2.5l-.94 2.06-2.06.94zm10 10l.94 2.06.94-2.06 2.06-.94-2.06-.94-.94-2.06-.94 2.06-2.06.94z\"/><path d=\"M17.41 7.96l-1.37-1.37c-.4-.4-.92-.59-1.43-.59-.52 0-1.04.2-1.43.59L10.3 9.45l-7.72 7.72c-.78.78-.78 2.05 0 2.83L4 21.41c.39.39.9.59 1.41.59.51 0 1.02-.2 1.41-.59l7.78-7.78 2.81-2.81c.8-.78.8-2.07 0-2.86zM5.41 20L4 18.59l7.72-7.72 1.47 1.35L5.41 20z\"/>\n",
              "  </svg>\n",
              "      </button>\n",
              "      \n",
              "  <style>\n",
              "    .colab-df-container {\n",
              "      display:flex;\n",
              "      flex-wrap:wrap;\n",
              "      gap: 12px;\n",
              "    }\n",
              "\n",
              "    .colab-df-convert {\n",
              "      background-color: #E8F0FE;\n",
              "      border: none;\n",
              "      border-radius: 50%;\n",
              "      cursor: pointer;\n",
              "      display: none;\n",
              "      fill: #1967D2;\n",
              "      height: 32px;\n",
              "      padding: 0 0 0 0;\n",
              "      width: 32px;\n",
              "    }\n",
              "\n",
              "    .colab-df-convert:hover {\n",
              "      background-color: #E2EBFA;\n",
              "      box-shadow: 0px 1px 2px rgba(60, 64, 67, 0.3), 0px 1px 3px 1px rgba(60, 64, 67, 0.15);\n",
              "      fill: #174EA6;\n",
              "    }\n",
              "\n",
              "    [theme=dark] .colab-df-convert {\n",
              "      background-color: #3B4455;\n",
              "      fill: #D2E3FC;\n",
              "    }\n",
              "\n",
              "    [theme=dark] .colab-df-convert:hover {\n",
              "      background-color: #434B5C;\n",
              "      box-shadow: 0px 1px 3px 1px rgba(0, 0, 0, 0.15);\n",
              "      filter: drop-shadow(0px 1px 2px rgba(0, 0, 0, 0.3));\n",
              "      fill: #FFFFFF;\n",
              "    }\n",
              "  </style>\n",
              "\n",
              "      <script>\n",
              "        const buttonEl =\n",
              "          document.querySelector('#df-7dd45f10-3581-4232-b0a7-86a4084ded8d button.colab-df-convert');\n",
              "        buttonEl.style.display =\n",
              "          google.colab.kernel.accessAllowed ? 'block' : 'none';\n",
              "\n",
              "        async function convertToInteractive(key) {\n",
              "          const element = document.querySelector('#df-7dd45f10-3581-4232-b0a7-86a4084ded8d');\n",
              "          const dataTable =\n",
              "            await google.colab.kernel.invokeFunction('convertToInteractive',\n",
              "                                                     [key], {});\n",
              "          if (!dataTable) return;\n",
              "\n",
              "          const docLinkHtml = 'Like what you see? Visit the ' +\n",
              "            '<a target=\"_blank\" href=https://colab.research.google.com/notebooks/data_table.ipynb>data table notebook</a>'\n",
              "            + ' to learn more about interactive tables.';\n",
              "          element.innerHTML = '';\n",
              "          dataTable['output_type'] = 'display_data';\n",
              "          await google.colab.output.renderOutput(dataTable, element);\n",
              "          const docLink = document.createElement('div');\n",
              "          docLink.innerHTML = docLinkHtml;\n",
              "          element.appendChild(docLink);\n",
              "        }\n",
              "      </script>\n",
              "    </div>\n",
              "  </div>\n",
              "  "
            ]
          },
          "metadata": {},
          "execution_count": 8
        }
      ]
    },
    {
      "cell_type": "code",
      "source": [
        "iris_df.describe()"
      ],
      "metadata": {
        "colab": {
          "base_uri": "https://localhost:8080/",
          "height": 297
        },
        "id": "5zY8B229m-5W",
        "outputId": "2d798368-32d9-4b98-f0ff-5e9607e17add"
      },
      "execution_count": null,
      "outputs": [
        {
          "output_type": "execute_result",
          "data": {
            "text/plain": [
              "       Sepal_Length  Sepal_Width  Petal_Length  Petal_Width     Species\n",
              "count    150.000000   150.000000    150.000000   150.000000  150.000000\n",
              "mean       5.843333     3.057333      3.758000     1.199333    1.000000\n",
              "std        0.828066     0.435866      1.765298     0.762238    0.819232\n",
              "min        4.300000     2.000000      1.000000     0.100000    0.000000\n",
              "25%        5.100000     2.800000      1.600000     0.300000    0.000000\n",
              "50%        5.800000     3.000000      4.350000     1.300000    1.000000\n",
              "75%        6.400000     3.300000      5.100000     1.800000    2.000000\n",
              "max        7.900000     4.400000      6.900000     2.500000    2.000000"
            ],
            "text/html": [
              "\n",
              "  <div id=\"df-9896894c-2ed8-4c06-8734-9b0bdb6d1f25\">\n",
              "    <div class=\"colab-df-container\">\n",
              "      <div>\n",
              "<style scoped>\n",
              "    .dataframe tbody tr th:only-of-type {\n",
              "        vertical-align: middle;\n",
              "    }\n",
              "\n",
              "    .dataframe tbody tr th {\n",
              "        vertical-align: top;\n",
              "    }\n",
              "\n",
              "    .dataframe thead th {\n",
              "        text-align: right;\n",
              "    }\n",
              "</style>\n",
              "<table border=\"1\" class=\"dataframe\">\n",
              "  <thead>\n",
              "    <tr style=\"text-align: right;\">\n",
              "      <th></th>\n",
              "      <th>Sepal_Length</th>\n",
              "      <th>Sepal_Width</th>\n",
              "      <th>Petal_Length</th>\n",
              "      <th>Petal_Width</th>\n",
              "      <th>Species</th>\n",
              "    </tr>\n",
              "  </thead>\n",
              "  <tbody>\n",
              "    <tr>\n",
              "      <th>count</th>\n",
              "      <td>150.000000</td>\n",
              "      <td>150.000000</td>\n",
              "      <td>150.000000</td>\n",
              "      <td>150.000000</td>\n",
              "      <td>150.000000</td>\n",
              "    </tr>\n",
              "    <tr>\n",
              "      <th>mean</th>\n",
              "      <td>5.843333</td>\n",
              "      <td>3.057333</td>\n",
              "      <td>3.758000</td>\n",
              "      <td>1.199333</td>\n",
              "      <td>1.000000</td>\n",
              "    </tr>\n",
              "    <tr>\n",
              "      <th>std</th>\n",
              "      <td>0.828066</td>\n",
              "      <td>0.435866</td>\n",
              "      <td>1.765298</td>\n",
              "      <td>0.762238</td>\n",
              "      <td>0.819232</td>\n",
              "    </tr>\n",
              "    <tr>\n",
              "      <th>min</th>\n",
              "      <td>4.300000</td>\n",
              "      <td>2.000000</td>\n",
              "      <td>1.000000</td>\n",
              "      <td>0.100000</td>\n",
              "      <td>0.000000</td>\n",
              "    </tr>\n",
              "    <tr>\n",
              "      <th>25%</th>\n",
              "      <td>5.100000</td>\n",
              "      <td>2.800000</td>\n",
              "      <td>1.600000</td>\n",
              "      <td>0.300000</td>\n",
              "      <td>0.000000</td>\n",
              "    </tr>\n",
              "    <tr>\n",
              "      <th>50%</th>\n",
              "      <td>5.800000</td>\n",
              "      <td>3.000000</td>\n",
              "      <td>4.350000</td>\n",
              "      <td>1.300000</td>\n",
              "      <td>1.000000</td>\n",
              "    </tr>\n",
              "    <tr>\n",
              "      <th>75%</th>\n",
              "      <td>6.400000</td>\n",
              "      <td>3.300000</td>\n",
              "      <td>5.100000</td>\n",
              "      <td>1.800000</td>\n",
              "      <td>2.000000</td>\n",
              "    </tr>\n",
              "    <tr>\n",
              "      <th>max</th>\n",
              "      <td>7.900000</td>\n",
              "      <td>4.400000</td>\n",
              "      <td>6.900000</td>\n",
              "      <td>2.500000</td>\n",
              "      <td>2.000000</td>\n",
              "    </tr>\n",
              "  </tbody>\n",
              "</table>\n",
              "</div>\n",
              "      <button class=\"colab-df-convert\" onclick=\"convertToInteractive('df-9896894c-2ed8-4c06-8734-9b0bdb6d1f25')\"\n",
              "              title=\"Convert this dataframe to an interactive table.\"\n",
              "              style=\"display:none;\">\n",
              "        \n",
              "  <svg xmlns=\"http://www.w3.org/2000/svg\" height=\"24px\"viewBox=\"0 0 24 24\"\n",
              "       width=\"24px\">\n",
              "    <path d=\"M0 0h24v24H0V0z\" fill=\"none\"/>\n",
              "    <path d=\"M18.56 5.44l.94 2.06.94-2.06 2.06-.94-2.06-.94-.94-2.06-.94 2.06-2.06.94zm-11 1L8.5 8.5l.94-2.06 2.06-.94-2.06-.94L8.5 2.5l-.94 2.06-2.06.94zm10 10l.94 2.06.94-2.06 2.06-.94-2.06-.94-.94-2.06-.94 2.06-2.06.94z\"/><path d=\"M17.41 7.96l-1.37-1.37c-.4-.4-.92-.59-1.43-.59-.52 0-1.04.2-1.43.59L10.3 9.45l-7.72 7.72c-.78.78-.78 2.05 0 2.83L4 21.41c.39.39.9.59 1.41.59.51 0 1.02-.2 1.41-.59l7.78-7.78 2.81-2.81c.8-.78.8-2.07 0-2.86zM5.41 20L4 18.59l7.72-7.72 1.47 1.35L5.41 20z\"/>\n",
              "  </svg>\n",
              "      </button>\n",
              "      \n",
              "  <style>\n",
              "    .colab-df-container {\n",
              "      display:flex;\n",
              "      flex-wrap:wrap;\n",
              "      gap: 12px;\n",
              "    }\n",
              "\n",
              "    .colab-df-convert {\n",
              "      background-color: #E8F0FE;\n",
              "      border: none;\n",
              "      border-radius: 50%;\n",
              "      cursor: pointer;\n",
              "      display: none;\n",
              "      fill: #1967D2;\n",
              "      height: 32px;\n",
              "      padding: 0 0 0 0;\n",
              "      width: 32px;\n",
              "    }\n",
              "\n",
              "    .colab-df-convert:hover {\n",
              "      background-color: #E2EBFA;\n",
              "      box-shadow: 0px 1px 2px rgba(60, 64, 67, 0.3), 0px 1px 3px 1px rgba(60, 64, 67, 0.15);\n",
              "      fill: #174EA6;\n",
              "    }\n",
              "\n",
              "    [theme=dark] .colab-df-convert {\n",
              "      background-color: #3B4455;\n",
              "      fill: #D2E3FC;\n",
              "    }\n",
              "\n",
              "    [theme=dark] .colab-df-convert:hover {\n",
              "      background-color: #434B5C;\n",
              "      box-shadow: 0px 1px 3px 1px rgba(0, 0, 0, 0.15);\n",
              "      filter: drop-shadow(0px 1px 2px rgba(0, 0, 0, 0.3));\n",
              "      fill: #FFFFFF;\n",
              "    }\n",
              "  </style>\n",
              "\n",
              "      <script>\n",
              "        const buttonEl =\n",
              "          document.querySelector('#df-9896894c-2ed8-4c06-8734-9b0bdb6d1f25 button.colab-df-convert');\n",
              "        buttonEl.style.display =\n",
              "          google.colab.kernel.accessAllowed ? 'block' : 'none';\n",
              "\n",
              "        async function convertToInteractive(key) {\n",
              "          const element = document.querySelector('#df-9896894c-2ed8-4c06-8734-9b0bdb6d1f25');\n",
              "          const dataTable =\n",
              "            await google.colab.kernel.invokeFunction('convertToInteractive',\n",
              "                                                     [key], {});\n",
              "          if (!dataTable) return;\n",
              "\n",
              "          const docLinkHtml = 'Like what you see? Visit the ' +\n",
              "            '<a target=\"_blank\" href=https://colab.research.google.com/notebooks/data_table.ipynb>data table notebook</a>'\n",
              "            + ' to learn more about interactive tables.';\n",
              "          element.innerHTML = '';\n",
              "          dataTable['output_type'] = 'display_data';\n",
              "          await google.colab.output.renderOutput(dataTable, element);\n",
              "          const docLink = document.createElement('div');\n",
              "          docLink.innerHTML = docLinkHtml;\n",
              "          element.appendChild(docLink);\n",
              "        }\n",
              "      </script>\n",
              "    </div>\n",
              "  </div>\n",
              "  "
            ]
          },
          "metadata": {},
          "execution_count": 9
        }
      ]
    },
    {
      "cell_type": "markdown",
      "source": [
        "### Cálculos de Estatística Exploratória"
      ],
      "metadata": {
        "id": "WYdROinInXs1"
      }
    },
    {
      "cell_type": "code",
      "source": [
        "sl = iris_df[\"Sepal_Length\"]"
      ],
      "metadata": {
        "id": "iFTCsweKnNAJ"
      },
      "execution_count": null,
      "outputs": []
    },
    {
      "cell_type": "code",
      "source": [
        "# Média\n",
        "media_sl = np.mean(sl)\n",
        "print(media_sl)"
      ],
      "metadata": {
        "colab": {
          "base_uri": "https://localhost:8080/"
        },
        "id": "kLL-XRCTnb4d",
        "outputId": "5341a264-3fe5-40ff-86f3-e15527542837"
      },
      "execution_count": null,
      "outputs": [
        {
          "output_type": "stream",
          "name": "stdout",
          "text": [
            "5.843333333333334\n"
          ]
        }
      ]
    },
    {
      "cell_type": "code",
      "source": [
        "# Mediana\n",
        "mediana_sl = np.median(sl)\n",
        "print(mediana_sl)"
      ],
      "metadata": {
        "colab": {
          "base_uri": "https://localhost:8080/"
        },
        "id": "hpnnY6ifnegS",
        "outputId": "531831ac-3695-4427-af40-6f13162b534d"
      },
      "execution_count": null,
      "outputs": [
        {
          "output_type": "stream",
          "name": "stdout",
          "text": [
            "5.8\n"
          ]
        }
      ]
    },
    {
      "cell_type": "code",
      "source": [
        "# Variância\n",
        "variancia_sl = np.var(sl)\n",
        "print(variancia_sl)"
      ],
      "metadata": {
        "colab": {
          "base_uri": "https://localhost:8080/"
        },
        "id": "U6RJAOS_n5-l",
        "outputId": "e4ed9ea0-754c-4c7c-ac2e-83b04630d872"
      },
      "execution_count": null,
      "outputs": [
        {
          "output_type": "stream",
          "name": "stdout",
          "text": [
            "0.6811222222222223\n"
          ]
        }
      ]
    },
    {
      "cell_type": "code",
      "source": [
        "# Desvio Padrão\n",
        "desvio_padrao_sl = np.std(sl)\n",
        "print(desvio_padrao_sl)"
      ],
      "metadata": {
        "colab": {
          "base_uri": "https://localhost:8080/"
        },
        "id": "bINOmaw0n85X",
        "outputId": "a49191e2-1252-429f-cb1c-61306ff3f0f2"
      },
      "execution_count": null,
      "outputs": [
        {
          "output_type": "stream",
          "name": "stdout",
          "text": [
            "0.8253012917851409\n"
          ]
        }
      ]
    },
    {
      "cell_type": "markdown",
      "source": [
        "### Faixas de Valores"
      ],
      "metadata": {
        "id": "xdSMcDuSoDUl"
      }
    },
    {
      "cell_type": "code",
      "source": [
        "# Valor Mínimo\n",
        "sl_min = np.min(sl)\n",
        "print(sl_min)"
      ],
      "metadata": {
        "colab": {
          "base_uri": "https://localhost:8080/"
        },
        "id": "QFwLQaZQoA_b",
        "outputId": "f2eeefa6-49a5-4e48-8a4e-544267829421"
      },
      "execution_count": null,
      "outputs": [
        {
          "output_type": "stream",
          "name": "stdout",
          "text": [
            "4.3\n"
          ]
        }
      ]
    },
    {
      "cell_type": "code",
      "source": [
        "# Valor Máximo\n",
        "sl_max = np.max(sl)\n",
        "print(sl_max)"
      ],
      "metadata": {
        "colab": {
          "base_uri": "https://localhost:8080/"
        },
        "id": "wRFm0yNKoE7q",
        "outputId": "288ca6d5-b7c3-45ba-81e5-670b4c47f4b2"
      },
      "execution_count": null,
      "outputs": [
        {
          "output_type": "stream",
          "name": "stdout",
          "text": [
            "7.9\n"
          ]
        }
      ]
    },
    {
      "cell_type": "markdown",
      "source": [
        "### Análise Exploratória Visual"
      ],
      "metadata": {
        "id": "m5qB2QK7oN_o"
      }
    },
    {
      "cell_type": "code",
      "source": [
        "X = iris.data[:, :4]\n",
        "y = iris.target\n",
        "plt.scatter(X[:, 0], X[:, 1], c=y, label=y)\n",
        "plt.title(\"Dispersão de dois atributos da planta Iris\")\n",
        "plt.xlabel(\"Sepal_Length\")\n",
        "plt.ylabel(\"Sepal_Width\")\n",
        "plt.show()"
      ],
      "metadata": {
        "colab": {
          "base_uri": "https://localhost:8080/",
          "height": 296
        },
        "id": "1y8xCWz0oJna",
        "outputId": "028821c4-badb-4cda-c02b-346791d2e9b1"
      },
      "execution_count": null,
      "outputs": [
        {
          "output_type": "display_data",
          "data": {
            "text/plain": [
              "<Figure size 432x288 with 1 Axes>"
            ],
            "image/png": "[encoded data removed]"
          },
          "metadata": {
            "needs_background": "light"
          }
        }
      ]
    },
    {
      "cell_type": "markdown",
      "source": [
        "## SOM"
      ],
      "metadata": {
        "id": "-LZODLUlquJ_"
      }
    },
    {
      "cell_type": "code",
      "source": [
        "# Normalização dos dados\n",
        "data = np.apply_along_axis(lambda x: x/np.linalg.norm(x), 0, iris.data)\n",
        "print(data[:10])"
      ],
      "metadata": {
        "colab": {
          "base_uri": "https://localhost:8080/"
        },
        "id": "qSEGSG6woRgl",
        "outputId": "3a7e598b-2856-44e6-a59a-e69936c3f6c9"
      },
      "execution_count": null,
      "outputs": [
        {
          "output_type": "stream",
          "name": "stdout",
          "text": [
            "[[0.07056264 0.09254209 0.02754801 0.01150242]\n",
            " [0.06779548 0.07932179 0.02754801 0.01150242]\n",
            " [0.06502832 0.08460991 0.02558029 0.01150242]\n",
            " [0.06364474 0.08196585 0.02951572 0.01150242]\n",
            " [0.06917906 0.09518615 0.02754801 0.01150242]\n",
            " [0.07471338 0.10311833 0.03345115 0.02300485]\n",
            " [0.06364474 0.08989803 0.02754801 0.01725364]\n",
            " [0.06917906 0.08989803 0.02951572 0.01150242]\n",
            " [0.06087757 0.07667773 0.02754801 0.01150242]\n",
            " [0.06779548 0.08196585 0.02951572 0.00575121]]\n"
          ]
        }
      ]
    },
    {
      "cell_type": "code",
      "source": [
        "# Divisão da base em treinamento e teste\n",
        "train = pd.DataFrame(iris.data)\n",
        "test = pd.DataFrame(iris.target)\n",
        "\n",
        "# Separação de 20% de treinamento e teste para avaliação\n",
        "X_train, X_test, y_train, y_test = train_test_split(train, test,\n",
        "    test_size=0.2, shuffle = True, random_state = 8)\n",
        "\n",
        "# Set de validação\n",
        "X_train, X_val, y_train, y_val = train_test_split(X_train, y_train, \n",
        "    test_size=0.25, random_state= 8) # 0.25 x 0.8 = 0.2\n",
        "\n",
        "\n",
        "print(\"X_train: {}\".format(X_train.shape))\n",
        "print(\"X_test: {}\".format(X_test.shape))\n",
        "print(\"y_train: {}\".format(y_train.shape))\n",
        "print(\"y_test: {}\".format(y_test.shape))\n",
        "print(\"X_val: {}\".format(y_train.shape))\n",
        "print(\"y val: {}\".format(y_test.shape))"
      ],
      "metadata": {
        "colab": {
          "base_uri": "https://localhost:8080/"
        },
        "id": "B5Ithq0Hq2HX",
        "outputId": "b8a5b121-f08f-421a-ef01-362e2cb9d7b6"
      },
      "execution_count": null,
      "outputs": [
        {
          "output_type": "stream",
          "name": "stdout",
          "text": [
            "X_train: (90, 4)\n",
            "X_test: (30, 4)\n",
            "y_train: (90, 1)\n",
            "y_test: (30, 1)\n",
            "X_val: (90, 1)\n",
            "y val: (30, 1)\n"
          ]
        }
      ]
    },
    {
      "cell_type": "code",
      "source": [
        "# Inicialização e treinamento\n",
        "n_neurons = 9\n",
        "m_neurons = 9\n",
        "som = MiniSom(n_neurons, m_neurons, data.shape[1], sigma=1.5, learning_rate=.5, \n",
        "              neighborhood_function='gaussian', random_seed=0)\n",
        "\n",
        "som.pca_weights_init(data)\n",
        "som.train(data, 1000, verbose=True)"
      ],
      "metadata": {
        "colab": {
          "base_uri": "https://localhost:8080/"
        },
        "id": "zqCI7vjS4ENr",
        "outputId": "9e5d5ce5-c5b2-4191-e329-e79cd1d3d0a5"
      },
      "execution_count": null,
      "outputs": [
        {
          "output_type": "stream",
          "name": "stdout",
          "text": [
            " [ 1000 / 1000 ] 100% - 0:00:00 left \n",
            " quantization error: 0.005575030792058643\n"
          ]
        }
      ]
    },
    {
      "cell_type": "markdown",
      "source": [
        "### Erro de Quantização (qe) e Topologico (te)"
      ],
      "metadata": {
        "id": "TahHLmyK54Gk"
      }
    },
    {
      "cell_type": "code",
      "source": [
        "max_iter = 1000\n",
        "q_error = []\n",
        "t_error = []\n",
        "\n",
        "for i in range(max_iter):\n",
        "    rand_i = np.random.randint(len(data))\n",
        "    som.update(data[rand_i], som.winner(data[rand_i]), i, max_iter)\n",
        "    q_error.append(som.quantization_error(data))\n",
        "    t_error.append(som.topographic_error(data))\n",
        "\n",
        "plt.plot(np.arange(max_iter), q_error, label='quantization error')\n",
        "plt.plot(np.arange(max_iter), t_error, label='topographic error')\n",
        "plt.ylabel('error')\n",
        "plt.xlabel('iteration index')\n",
        "plt.legend()\n",
        "plt.show()"
      ],
      "metadata": {
        "colab": {
          "base_uri": "https://localhost:8080/",
          "height": 279
        },
        "id": "kBqaTVhh4Uih",
        "outputId": "3459ea5a-2727-43b7-8330-0be9fed703ff"
      },
      "execution_count": null,
      "outputs": [
        {
          "output_type": "display_data",
          "data": {
            "text/plain": [
              "<Figure size 432x288 with 1 Axes>"
            ],
            "image/png": "[encoded data removed]"
          },
          "metadata": {
            "needs_background": "light"
          }
        }
      ]
    },
    {
      "cell_type": "markdown",
      "source": [
        "### Histograma de Neurônios encedores\n"
      ],
      "metadata": {
        "id": "IHNqlVpO5_rf"
      }
    },
    {
      "cell_type": "code",
      "source": [
        "frequencies = som.activation_response(data)\n",
        "plt.hist(frequencies)\n",
        "plt.show()"
      ],
      "metadata": {
        "colab": {
          "base_uri": "https://localhost:8080/",
          "height": 265
        },
        "id": "p7azFEqv5QcO",
        "outputId": "a95509e7-c00e-4e9d-88ad-19e880d82993"
      },
      "execution_count": null,
      "outputs": [
        {
          "output_type": "display_data",
          "data": {
            "text/plain": [
              "<Figure size 432x288 with 1 Axes>"
            ],
            "image/png": "[encoded data removed]"
          },
          "metadata": {
            "needs_background": "light"
          }
        }
      ]
    },
    {
      "cell_type": "markdown",
      "source": [
        "### Mapa de Calor com a Informação de Classe"
      ],
      "metadata": {
        "id": "T5HeWGoW6B6B"
      }
    },
    {
      "cell_type": "code",
      "source": [
        "plt.figure(figsize=(9, 9))\n",
        "\n",
        "plt.pcolor(som.distance_map().T, cmap='bone_r')  # plotting the distance map as background\n",
        "plt.colorbar()\n",
        "\n",
        "plt.show()"
      ],
      "metadata": {
        "colab": {
          "base_uri": "https://localhost:8080/",
          "height": 541
        },
        "id": "MjgV88Kk6EfB",
        "outputId": "f1e9ffcc-8fa1-44e4-a3dc-ed37626e2147"
      },
      "execution_count": null,
      "outputs": [
        {
          "output_type": "display_data",
          "data": {
            "text/plain": [
              "<Figure size 648x648 with 2 Axes>"
            ],
            "image/png": "[encoded data removed]"
          },
          "metadata": {
            "needs_background": "light"
          }
        }
      ]
    },
    {
      "cell_type": "markdown",
      "source": [
        "### Histograma de distribuição de classe em cada neurônio"
      ],
      "metadata": {
        "id": "DBTRH6XI6Ewh"
      }
    },
    {
      "cell_type": "code",
      "source": [
        "max_iter = 150\n",
        "\n",
        "for i in range(max_iter):\n",
        "  neurons = som.winner(data[i])\n",
        "  plt.hist(neurons)\n",
        "\n",
        "plt.show()"
      ],
      "metadata": {
        "colab": {
          "base_uri": "https://localhost:8080/",
          "height": 265
        },
        "id": "_SIhAf936Fx4",
        "outputId": "7ff767bd-72ac-4f1e-cec8-570572b49e30"
      },
      "execution_count": null,
      "outputs": [
        {
          "output_type": "display_data",
          "data": {
            "text/plain": [
              "<Figure size 432x288 with 1 Axes>"
            ],
            "image/png": "[encoded data removed]"
          },
          "metadata": {
            "needs_background": "light"
          }
        }
      ]
    },
    {
      "cell_type": "markdown",
      "source": [
        "### Scatter Plot"
      ],
      "metadata": {
        "id": "2xe8FA7Obn3Y"
      }
    },
    {
      "cell_type": "code",
      "source": [
        "plt.figure(figsize=(9, 9))\n",
        "\n",
        "plt.pcolor(som.distance_map().T, cmap='bone_r')  # plotting the distance map as background\n",
        "plt.colorbar()\n",
        "\n",
        "# Plotting the response for each pattern in the iris dataset\n",
        "# different colors and markers for each label\n",
        "target = data['target'].values\n",
        "markers = ['o', 's', 'D']\n",
        "colors = ['C0', 'C1', 'C2']\n",
        "for cnt, xx in enumerate(data):\n",
        "    w = som.winner(xx)  # getting the winner\n",
        "    # palce a marker on the winning position for the sample xx\n",
        "    plt.plot(w[0]+.5, w[1]+.5, markers[y_val[cnt]-1], markerfacecolor='None',\n",
        "             markeredgecolor=colors[target[cnt]-1], markersize=12, markeredgewidth=2)\n",
        "\n",
        "plt.show()"
      ],
      "metadata": {
        "colab": {
          "base_uri": "https://localhost:8080/",
          "height": 773
        },
        "id": "Z4tDOIknbph4",
        "outputId": "3e18bdc0-44a0-41d9-d9a5-adac533c5c6f"
      },
      "execution_count": null,
      "outputs": [
        {
          "output_type": "error",
          "ename": "IndexError",
          "evalue": "ignored",
          "traceback": [
            "\u001b[0;31m---------------------------------------------------------------------------\u001b[0m",
            "\u001b[0;31mIndexError\u001b[0m                                Traceback (most recent call last)",
            "\u001b[0;32m<ipython-input-60-84e4dabf87e0>\u001b[0m in \u001b[0;36m<module>\u001b[0;34m\u001b[0m\n\u001b[1;32m      6\u001b[0m \u001b[0;31m# Plotting the response for each pattern in the iris dataset\u001b[0m\u001b[0;34m\u001b[0m\u001b[0;34m\u001b[0m\u001b[0;34m\u001b[0m\u001b[0m\n\u001b[1;32m      7\u001b[0m \u001b[0;31m# different colors and markers for each label\u001b[0m\u001b[0;34m\u001b[0m\u001b[0;34m\u001b[0m\u001b[0;34m\u001b[0m\u001b[0m\n\u001b[0;32m----> 8\u001b[0;31m \u001b[0mtarget\u001b[0m \u001b[0;34m=\u001b[0m \u001b[0mdata\u001b[0m\u001b[0;34m[\u001b[0m\u001b[0;34m'target'\u001b[0m\u001b[0;34m]\u001b[0m\u001b[0;34m.\u001b[0m\u001b[0mvalues\u001b[0m\u001b[0;34m\u001b[0m\u001b[0;34m\u001b[0m\u001b[0m\n\u001b[0m\u001b[1;32m      9\u001b[0m \u001b[0mmarkers\u001b[0m \u001b[0;34m=\u001b[0m \u001b[0;34m[\u001b[0m\u001b[0;34m'o'\u001b[0m\u001b[0;34m,\u001b[0m \u001b[0;34m's'\u001b[0m\u001b[0;34m,\u001b[0m \u001b[0;34m'D'\u001b[0m\u001b[0;34m]\u001b[0m\u001b[0;34m\u001b[0m\u001b[0;34m\u001b[0m\u001b[0m\n\u001b[1;32m     10\u001b[0m \u001b[0mcolors\u001b[0m \u001b[0;34m=\u001b[0m \u001b[0;34m[\u001b[0m\u001b[0;34m'C0'\u001b[0m\u001b[0;34m,\u001b[0m \u001b[0;34m'C1'\u001b[0m\u001b[0;34m,\u001b[0m \u001b[0;34m'C2'\u001b[0m\u001b[0;34m]\u001b[0m\u001b[0;34m\u001b[0m\u001b[0;34m\u001b[0m\u001b[0m\n",
            "\u001b[0;31mIndexError\u001b[0m: only integers, slices (`:`), ellipsis (`...`), numpy.newaxis (`None`) and integer or boolean arrays are valid indices"
          ]
        },
        {
          "output_type": "display_data",
          "data": {
            "text/plain": [
              "<Figure size 648x648 with 2 Axes>"
            ],
            "image/png": "[encoded data removed]"
          },
          "metadata": {
            "needs_background": "light"
          }
        }
      ]
    }
  ]
}